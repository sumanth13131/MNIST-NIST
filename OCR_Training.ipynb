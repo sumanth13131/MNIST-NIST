{
  "nbformat": 4,
  "nbformat_minor": 0,
  "metadata": {
    "colab": {
      "name": "OCR-Training.ipynb",
      "provenance": [],
      "collapsed_sections": []
    },
    "kernelspec": {
      "name": "python3",
      "display_name": "Python 3"
    },
    "accelerator": "GPU"
  },
  "cells": [
    {
      "cell_type": "code",
      "metadata": {
        "id": "5mthjx0IBRsP",
        "colab_type": "code",
        "colab": {
          "base_uri": "https://localhost:8080/",
          "height": 122
        },
        "outputId": "952059ef-a4cc-48a4-e55c-7dc5ebb7f9ad"
      },
      "source": [
        "from google.colab import drive\n",
        "drive.mount('/content/drive')"
      ],
      "execution_count": 2,
      "outputs": [
        {
          "output_type": "stream",
          "text": [
            "Go to this URL in a browser: https://accounts.google.com/o/oauth2/auth?client_id=947318989803-6bn6qk8qdgf4n4g3pfee6491hc0brc4i.apps.googleusercontent.com&redirect_uri=urn%3aietf%3awg%3aoauth%3a2.0%3aoob&scope=email%20https%3a%2f%2fwww.googleapis.com%2fauth%2fdocs.test%20https%3a%2f%2fwww.googleapis.com%2fauth%2fdrive%20https%3a%2f%2fwww.googleapis.com%2fauth%2fdrive.photos.readonly%20https%3a%2f%2fwww.googleapis.com%2fauth%2fpeopleapi.readonly&response_type=code\n",
            "\n",
            "Enter your authorization code:\n",
            "··········\n",
            "Mounted at /content/drive\n"
          ],
          "name": "stdout"
        }
      ]
    },
    {
      "cell_type": "code",
      "metadata": {
        "id": "x-hIN59zBbGk",
        "colab_type": "code",
        "colab": {}
      },
      "source": [
        "import pandas as pd\n",
        "import matplotlib.pyplot as plt\n",
        "%matplotlib inline"
      ],
      "execution_count": 3,
      "outputs": []
    },
    {
      "cell_type": "code",
      "metadata": {
        "id": "S4oKXhLQBmRF",
        "colab_type": "code",
        "colab": {}
      },
      "source": [
        "data=pd.read_csv('/content/drive/My Drive/OCR/Data/AlphaAndDigitsData(New).csv')"
      ],
      "execution_count": 4,
      "outputs": []
    },
    {
      "cell_type": "code",
      "metadata": {
        "id": "QukmfMZGBqB2",
        "colab_type": "code",
        "colab": {
          "base_uri": "https://localhost:8080/",
          "height": 253
        },
        "outputId": "9ff35b71-aaf8-4c9c-c4d0-d00106a9f5d8"
      },
      "source": [
        "data.head()"
      ],
      "execution_count": 5,
      "outputs": [
        {
          "output_type": "execute_result",
          "data": {
            "text/html": [
              "<div>\n",
              "<style scoped>\n",
              "    .dataframe tbody tr th:only-of-type {\n",
              "        vertical-align: middle;\n",
              "    }\n",
              "\n",
              "    .dataframe tbody tr th {\n",
              "        vertical-align: top;\n",
              "    }\n",
              "\n",
              "    .dataframe thead th {\n",
              "        text-align: right;\n",
              "    }\n",
              "</style>\n",
              "<table border=\"1\" class=\"dataframe\">\n",
              "  <thead>\n",
              "    <tr style=\"text-align: right;\">\n",
              "      <th></th>\n",
              "      <th>P0</th>\n",
              "      <th>P1</th>\n",
              "      <th>P2</th>\n",
              "      <th>P3</th>\n",
              "      <th>P4</th>\n",
              "      <th>P5</th>\n",
              "      <th>P6</th>\n",
              "      <th>P7</th>\n",
              "      <th>P8</th>\n",
              "      <th>P9</th>\n",
              "      <th>P10</th>\n",
              "      <th>P11</th>\n",
              "      <th>P12</th>\n",
              "      <th>P13</th>\n",
              "      <th>P14</th>\n",
              "      <th>P15</th>\n",
              "      <th>P16</th>\n",
              "      <th>P17</th>\n",
              "      <th>P18</th>\n",
              "      <th>P19</th>\n",
              "      <th>P20</th>\n",
              "      <th>P21</th>\n",
              "      <th>P22</th>\n",
              "      <th>P23</th>\n",
              "      <th>P24</th>\n",
              "      <th>P25</th>\n",
              "      <th>P26</th>\n",
              "      <th>P27</th>\n",
              "      <th>P28</th>\n",
              "      <th>P29</th>\n",
              "      <th>P30</th>\n",
              "      <th>P31</th>\n",
              "      <th>P32</th>\n",
              "      <th>P33</th>\n",
              "      <th>P34</th>\n",
              "      <th>P35</th>\n",
              "      <th>P36</th>\n",
              "      <th>P37</th>\n",
              "      <th>P38</th>\n",
              "      <th>P39</th>\n",
              "      <th>...</th>\n",
              "      <th>P745</th>\n",
              "      <th>P746</th>\n",
              "      <th>P747</th>\n",
              "      <th>P748</th>\n",
              "      <th>P749</th>\n",
              "      <th>P750</th>\n",
              "      <th>P751</th>\n",
              "      <th>P752</th>\n",
              "      <th>P753</th>\n",
              "      <th>P754</th>\n",
              "      <th>P755</th>\n",
              "      <th>P756</th>\n",
              "      <th>P757</th>\n",
              "      <th>P758</th>\n",
              "      <th>P759</th>\n",
              "      <th>P760</th>\n",
              "      <th>P761</th>\n",
              "      <th>P762</th>\n",
              "      <th>P763</th>\n",
              "      <th>P764</th>\n",
              "      <th>P765</th>\n",
              "      <th>P766</th>\n",
              "      <th>P767</th>\n",
              "      <th>P768</th>\n",
              "      <th>P769</th>\n",
              "      <th>P770</th>\n",
              "      <th>P771</th>\n",
              "      <th>P772</th>\n",
              "      <th>P773</th>\n",
              "      <th>P774</th>\n",
              "      <th>P775</th>\n",
              "      <th>P776</th>\n",
              "      <th>P777</th>\n",
              "      <th>P778</th>\n",
              "      <th>P779</th>\n",
              "      <th>P780</th>\n",
              "      <th>P781</th>\n",
              "      <th>P782</th>\n",
              "      <th>P783</th>\n",
              "      <th>P784</th>\n",
              "    </tr>\n",
              "  </thead>\n",
              "  <tbody>\n",
              "    <tr>\n",
              "      <th>0</th>\n",
              "      <td>5</td>\n",
              "      <td>0</td>\n",
              "      <td>0</td>\n",
              "      <td>0</td>\n",
              "      <td>0</td>\n",
              "      <td>0</td>\n",
              "      <td>0</td>\n",
              "      <td>0</td>\n",
              "      <td>0</td>\n",
              "      <td>0</td>\n",
              "      <td>0</td>\n",
              "      <td>0</td>\n",
              "      <td>0</td>\n",
              "      <td>0</td>\n",
              "      <td>0</td>\n",
              "      <td>0</td>\n",
              "      <td>0</td>\n",
              "      <td>0</td>\n",
              "      <td>0</td>\n",
              "      <td>0</td>\n",
              "      <td>0</td>\n",
              "      <td>0</td>\n",
              "      <td>0</td>\n",
              "      <td>0</td>\n",
              "      <td>0</td>\n",
              "      <td>0</td>\n",
              "      <td>0</td>\n",
              "      <td>0</td>\n",
              "      <td>0</td>\n",
              "      <td>0</td>\n",
              "      <td>0</td>\n",
              "      <td>0</td>\n",
              "      <td>0</td>\n",
              "      <td>0</td>\n",
              "      <td>0</td>\n",
              "      <td>0</td>\n",
              "      <td>0</td>\n",
              "      <td>0</td>\n",
              "      <td>0</td>\n",
              "      <td>0</td>\n",
              "      <td>...</td>\n",
              "      <td>0</td>\n",
              "      <td>0</td>\n",
              "      <td>0</td>\n",
              "      <td>0</td>\n",
              "      <td>0</td>\n",
              "      <td>0</td>\n",
              "      <td>0</td>\n",
              "      <td>0</td>\n",
              "      <td>0</td>\n",
              "      <td>0</td>\n",
              "      <td>0</td>\n",
              "      <td>0</td>\n",
              "      <td>0</td>\n",
              "      <td>0</td>\n",
              "      <td>0</td>\n",
              "      <td>0</td>\n",
              "      <td>0</td>\n",
              "      <td>0</td>\n",
              "      <td>0</td>\n",
              "      <td>0</td>\n",
              "      <td>0</td>\n",
              "      <td>0</td>\n",
              "      <td>0</td>\n",
              "      <td>0</td>\n",
              "      <td>0</td>\n",
              "      <td>0</td>\n",
              "      <td>0</td>\n",
              "      <td>0</td>\n",
              "      <td>0</td>\n",
              "      <td>0</td>\n",
              "      <td>0</td>\n",
              "      <td>0</td>\n",
              "      <td>0</td>\n",
              "      <td>0</td>\n",
              "      <td>0</td>\n",
              "      <td>0</td>\n",
              "      <td>0</td>\n",
              "      <td>0</td>\n",
              "      <td>0</td>\n",
              "      <td>0</td>\n",
              "    </tr>\n",
              "    <tr>\n",
              "      <th>1</th>\n",
              "      <td>7</td>\n",
              "      <td>0</td>\n",
              "      <td>0</td>\n",
              "      <td>0</td>\n",
              "      <td>0</td>\n",
              "      <td>0</td>\n",
              "      <td>0</td>\n",
              "      <td>0</td>\n",
              "      <td>0</td>\n",
              "      <td>0</td>\n",
              "      <td>0</td>\n",
              "      <td>0</td>\n",
              "      <td>0</td>\n",
              "      <td>0</td>\n",
              "      <td>0</td>\n",
              "      <td>0</td>\n",
              "      <td>0</td>\n",
              "      <td>0</td>\n",
              "      <td>0</td>\n",
              "      <td>0</td>\n",
              "      <td>0</td>\n",
              "      <td>0</td>\n",
              "      <td>0</td>\n",
              "      <td>0</td>\n",
              "      <td>0</td>\n",
              "      <td>0</td>\n",
              "      <td>0</td>\n",
              "      <td>0</td>\n",
              "      <td>0</td>\n",
              "      <td>0</td>\n",
              "      <td>0</td>\n",
              "      <td>0</td>\n",
              "      <td>0</td>\n",
              "      <td>0</td>\n",
              "      <td>0</td>\n",
              "      <td>0</td>\n",
              "      <td>0</td>\n",
              "      <td>0</td>\n",
              "      <td>0</td>\n",
              "      <td>0</td>\n",
              "      <td>...</td>\n",
              "      <td>0</td>\n",
              "      <td>0</td>\n",
              "      <td>0</td>\n",
              "      <td>0</td>\n",
              "      <td>0</td>\n",
              "      <td>0</td>\n",
              "      <td>0</td>\n",
              "      <td>0</td>\n",
              "      <td>0</td>\n",
              "      <td>0</td>\n",
              "      <td>0</td>\n",
              "      <td>0</td>\n",
              "      <td>0</td>\n",
              "      <td>0</td>\n",
              "      <td>0</td>\n",
              "      <td>0</td>\n",
              "      <td>0</td>\n",
              "      <td>0</td>\n",
              "      <td>0</td>\n",
              "      <td>0</td>\n",
              "      <td>0</td>\n",
              "      <td>0</td>\n",
              "      <td>0</td>\n",
              "      <td>0</td>\n",
              "      <td>0</td>\n",
              "      <td>0</td>\n",
              "      <td>0</td>\n",
              "      <td>0</td>\n",
              "      <td>0</td>\n",
              "      <td>0</td>\n",
              "      <td>0</td>\n",
              "      <td>0</td>\n",
              "      <td>0</td>\n",
              "      <td>0</td>\n",
              "      <td>0</td>\n",
              "      <td>0</td>\n",
              "      <td>0</td>\n",
              "      <td>0</td>\n",
              "      <td>0</td>\n",
              "      <td>0</td>\n",
              "    </tr>\n",
              "    <tr>\n",
              "      <th>2</th>\n",
              "      <td>9</td>\n",
              "      <td>0</td>\n",
              "      <td>0</td>\n",
              "      <td>0</td>\n",
              "      <td>0</td>\n",
              "      <td>0</td>\n",
              "      <td>0</td>\n",
              "      <td>0</td>\n",
              "      <td>0</td>\n",
              "      <td>0</td>\n",
              "      <td>0</td>\n",
              "      <td>0</td>\n",
              "      <td>0</td>\n",
              "      <td>0</td>\n",
              "      <td>0</td>\n",
              "      <td>0</td>\n",
              "      <td>0</td>\n",
              "      <td>0</td>\n",
              "      <td>0</td>\n",
              "      <td>0</td>\n",
              "      <td>0</td>\n",
              "      <td>0</td>\n",
              "      <td>0</td>\n",
              "      <td>0</td>\n",
              "      <td>0</td>\n",
              "      <td>0</td>\n",
              "      <td>0</td>\n",
              "      <td>0</td>\n",
              "      <td>0</td>\n",
              "      <td>0</td>\n",
              "      <td>0</td>\n",
              "      <td>0</td>\n",
              "      <td>0</td>\n",
              "      <td>0</td>\n",
              "      <td>0</td>\n",
              "      <td>0</td>\n",
              "      <td>0</td>\n",
              "      <td>0</td>\n",
              "      <td>0</td>\n",
              "      <td>0</td>\n",
              "      <td>...</td>\n",
              "      <td>15</td>\n",
              "      <td>0</td>\n",
              "      <td>0</td>\n",
              "      <td>0</td>\n",
              "      <td>0</td>\n",
              "      <td>0</td>\n",
              "      <td>0</td>\n",
              "      <td>0</td>\n",
              "      <td>0</td>\n",
              "      <td>0</td>\n",
              "      <td>0</td>\n",
              "      <td>0</td>\n",
              "      <td>0</td>\n",
              "      <td>0</td>\n",
              "      <td>0</td>\n",
              "      <td>0</td>\n",
              "      <td>0</td>\n",
              "      <td>0</td>\n",
              "      <td>0</td>\n",
              "      <td>0</td>\n",
              "      <td>0</td>\n",
              "      <td>0</td>\n",
              "      <td>0</td>\n",
              "      <td>0</td>\n",
              "      <td>0</td>\n",
              "      <td>0</td>\n",
              "      <td>0</td>\n",
              "      <td>0</td>\n",
              "      <td>0</td>\n",
              "      <td>0</td>\n",
              "      <td>0</td>\n",
              "      <td>0</td>\n",
              "      <td>0</td>\n",
              "      <td>0</td>\n",
              "      <td>0</td>\n",
              "      <td>0</td>\n",
              "      <td>0</td>\n",
              "      <td>0</td>\n",
              "      <td>0</td>\n",
              "      <td>0</td>\n",
              "    </tr>\n",
              "    <tr>\n",
              "      <th>3</th>\n",
              "      <td>5</td>\n",
              "      <td>0</td>\n",
              "      <td>0</td>\n",
              "      <td>0</td>\n",
              "      <td>0</td>\n",
              "      <td>0</td>\n",
              "      <td>0</td>\n",
              "      <td>0</td>\n",
              "      <td>0</td>\n",
              "      <td>0</td>\n",
              "      <td>0</td>\n",
              "      <td>0</td>\n",
              "      <td>0</td>\n",
              "      <td>0</td>\n",
              "      <td>0</td>\n",
              "      <td>0</td>\n",
              "      <td>0</td>\n",
              "      <td>0</td>\n",
              "      <td>0</td>\n",
              "      <td>0</td>\n",
              "      <td>0</td>\n",
              "      <td>0</td>\n",
              "      <td>0</td>\n",
              "      <td>0</td>\n",
              "      <td>0</td>\n",
              "      <td>0</td>\n",
              "      <td>0</td>\n",
              "      <td>0</td>\n",
              "      <td>0</td>\n",
              "      <td>0</td>\n",
              "      <td>0</td>\n",
              "      <td>0</td>\n",
              "      <td>0</td>\n",
              "      <td>0</td>\n",
              "      <td>0</td>\n",
              "      <td>0</td>\n",
              "      <td>0</td>\n",
              "      <td>0</td>\n",
              "      <td>0</td>\n",
              "      <td>0</td>\n",
              "      <td>...</td>\n",
              "      <td>0</td>\n",
              "      <td>0</td>\n",
              "      <td>0</td>\n",
              "      <td>0</td>\n",
              "      <td>0</td>\n",
              "      <td>0</td>\n",
              "      <td>0</td>\n",
              "      <td>0</td>\n",
              "      <td>0</td>\n",
              "      <td>0</td>\n",
              "      <td>0</td>\n",
              "      <td>0</td>\n",
              "      <td>0</td>\n",
              "      <td>0</td>\n",
              "      <td>0</td>\n",
              "      <td>0</td>\n",
              "      <td>0</td>\n",
              "      <td>0</td>\n",
              "      <td>0</td>\n",
              "      <td>0</td>\n",
              "      <td>0</td>\n",
              "      <td>0</td>\n",
              "      <td>0</td>\n",
              "      <td>0</td>\n",
              "      <td>0</td>\n",
              "      <td>0</td>\n",
              "      <td>0</td>\n",
              "      <td>0</td>\n",
              "      <td>0</td>\n",
              "      <td>0</td>\n",
              "      <td>0</td>\n",
              "      <td>0</td>\n",
              "      <td>0</td>\n",
              "      <td>0</td>\n",
              "      <td>0</td>\n",
              "      <td>0</td>\n",
              "      <td>0</td>\n",
              "      <td>0</td>\n",
              "      <td>0</td>\n",
              "      <td>0</td>\n",
              "    </tr>\n",
              "    <tr>\n",
              "      <th>4</th>\n",
              "      <td>2</td>\n",
              "      <td>0</td>\n",
              "      <td>0</td>\n",
              "      <td>0</td>\n",
              "      <td>0</td>\n",
              "      <td>0</td>\n",
              "      <td>0</td>\n",
              "      <td>0</td>\n",
              "      <td>0</td>\n",
              "      <td>0</td>\n",
              "      <td>0</td>\n",
              "      <td>0</td>\n",
              "      <td>0</td>\n",
              "      <td>0</td>\n",
              "      <td>0</td>\n",
              "      <td>0</td>\n",
              "      <td>0</td>\n",
              "      <td>0</td>\n",
              "      <td>0</td>\n",
              "      <td>0</td>\n",
              "      <td>0</td>\n",
              "      <td>0</td>\n",
              "      <td>0</td>\n",
              "      <td>0</td>\n",
              "      <td>0</td>\n",
              "      <td>0</td>\n",
              "      <td>0</td>\n",
              "      <td>0</td>\n",
              "      <td>0</td>\n",
              "      <td>0</td>\n",
              "      <td>0</td>\n",
              "      <td>0</td>\n",
              "      <td>0</td>\n",
              "      <td>0</td>\n",
              "      <td>0</td>\n",
              "      <td>0</td>\n",
              "      <td>0</td>\n",
              "      <td>0</td>\n",
              "      <td>0</td>\n",
              "      <td>0</td>\n",
              "      <td>...</td>\n",
              "      <td>0</td>\n",
              "      <td>0</td>\n",
              "      <td>0</td>\n",
              "      <td>0</td>\n",
              "      <td>0</td>\n",
              "      <td>0</td>\n",
              "      <td>0</td>\n",
              "      <td>0</td>\n",
              "      <td>0</td>\n",
              "      <td>0</td>\n",
              "      <td>0</td>\n",
              "      <td>0</td>\n",
              "      <td>0</td>\n",
              "      <td>0</td>\n",
              "      <td>0</td>\n",
              "      <td>0</td>\n",
              "      <td>0</td>\n",
              "      <td>0</td>\n",
              "      <td>0</td>\n",
              "      <td>0</td>\n",
              "      <td>0</td>\n",
              "      <td>0</td>\n",
              "      <td>0</td>\n",
              "      <td>0</td>\n",
              "      <td>0</td>\n",
              "      <td>0</td>\n",
              "      <td>0</td>\n",
              "      <td>0</td>\n",
              "      <td>0</td>\n",
              "      <td>0</td>\n",
              "      <td>0</td>\n",
              "      <td>0</td>\n",
              "      <td>0</td>\n",
              "      <td>0</td>\n",
              "      <td>0</td>\n",
              "      <td>0</td>\n",
              "      <td>0</td>\n",
              "      <td>0</td>\n",
              "      <td>0</td>\n",
              "      <td>0</td>\n",
              "    </tr>\n",
              "  </tbody>\n",
              "</table>\n",
              "<p>5 rows × 785 columns</p>\n",
              "</div>"
            ],
            "text/plain": [
              "   P0  P1  P2  P3  P4  P5  P6  ...  P778  P779  P780  P781  P782  P783  P784\n",
              "0   5   0   0   0   0   0   0  ...     0     0     0     0     0     0     0\n",
              "1   7   0   0   0   0   0   0  ...     0     0     0     0     0     0     0\n",
              "2   9   0   0   0   0   0   0  ...     0     0     0     0     0     0     0\n",
              "3   5   0   0   0   0   0   0  ...     0     0     0     0     0     0     0\n",
              "4   2   0   0   0   0   0   0  ...     0     0     0     0     0     0     0\n",
              "\n",
              "[5 rows x 785 columns]"
            ]
          },
          "metadata": {
            "tags": []
          },
          "execution_count": 5
        }
      ]
    },
    {
      "cell_type": "code",
      "metadata": {
        "id": "3_fMbQHDBw8U",
        "colab_type": "code",
        "colab": {}
      },
      "source": [
        "from sklearn.model_selection import train_test_split\n",
        "\n",
        "X_train,X_val,Y_train,Y_val=train_test_split(data.iloc[:,1:],data.iloc[:,0],random_state=51,shuffle=True,test_size=0.15)"
      ],
      "execution_count": 6,
      "outputs": []
    },
    {
      "cell_type": "code",
      "metadata": {
        "id": "v0yygGjOB1lD",
        "colab_type": "code",
        "colab": {
          "base_uri": "https://localhost:8080/",
          "height": 34
        },
        "outputId": "da987fde-e96d-43d5-da9d-43f8b529e3b1"
      },
      "source": [
        "X_train.shape"
      ],
      "execution_count": 7,
      "outputs": [
        {
          "output_type": "execute_result",
          "data": {
            "text/plain": [
              "(333581, 784)"
            ]
          },
          "metadata": {
            "tags": []
          },
          "execution_count": 7
        }
      ]
    },
    {
      "cell_type": "code",
      "metadata": {
        "id": "sBOeMiy2B50g",
        "colab_type": "code",
        "colab": {
          "base_uri": "https://localhost:8080/",
          "height": 34
        },
        "outputId": "c1925d7c-0640-4753-8089-00f3927d088e"
      },
      "source": [
        "Y_train.shape"
      ],
      "execution_count": 8,
      "outputs": [
        {
          "output_type": "execute_result",
          "data": {
            "text/plain": [
              "(333581,)"
            ]
          },
          "metadata": {
            "tags": []
          },
          "execution_count": 8
        }
      ]
    },
    {
      "cell_type": "code",
      "metadata": {
        "id": "CpFkGgZzB7gG",
        "colab_type": "code",
        "colab": {
          "base_uri": "https://localhost:8080/",
          "height": 34
        },
        "outputId": "c930c287-be6f-453c-8dcc-b675cdb8cf82"
      },
      "source": [
        "X_val.shape"
      ],
      "execution_count": 9,
      "outputs": [
        {
          "output_type": "execute_result",
          "data": {
            "text/plain": [
              "(58868, 784)"
            ]
          },
          "metadata": {
            "tags": []
          },
          "execution_count": 9
        }
      ]
    },
    {
      "cell_type": "code",
      "metadata": {
        "id": "gmGeILNJB9KF",
        "colab_type": "code",
        "colab": {
          "base_uri": "https://localhost:8080/",
          "height": 34
        },
        "outputId": "2f79a709-7d79-42da-e815-b2ccb87ecdb7"
      },
      "source": [
        "Y_val.shape"
      ],
      "execution_count": 10,
      "outputs": [
        {
          "output_type": "execute_result",
          "data": {
            "text/plain": [
              "(58868,)"
            ]
          },
          "metadata": {
            "tags": []
          },
          "execution_count": 10
        }
      ]
    },
    {
      "cell_type": "code",
      "metadata": {
        "id": "9h2EOmOrB_mo",
        "colab_type": "code",
        "colab": {
          "base_uri": "https://localhost:8080/",
          "height": 51
        },
        "outputId": "b4d86e1a-9895-4a86-9386-6da8c6a2d36b"
      },
      "source": [
        "import numpy as np\n",
        "X_train=np.array(X_train)/255.0\n",
        "X_val=np.array(X_val)/255.0\n",
        "print(True)\n",
        "Y_train=np.array(Y_train)\n",
        "Y_val=np.array(Y_val)\n",
        "print(True)\n",
        "X_train = np.array(X_train).reshape(-1,28,28,1)\n",
        "X_val = np.array(X_val).reshape(-1,28,28,1)"
      ],
      "execution_count": 11,
      "outputs": [
        {
          "output_type": "stream",
          "text": [
            "True\n",
            "True\n"
          ],
          "name": "stdout"
        }
      ]
    },
    {
      "cell_type": "code",
      "metadata": {
        "id": "--7JAaCNCce2",
        "colab_type": "code",
        "colab": {
          "base_uri": "https://localhost:8080/",
          "height": 34
        },
        "outputId": "47f73c1d-2432-43d9-8073-f6434f0cefd1"
      },
      "source": [
        "X_train.shape"
      ],
      "execution_count": 12,
      "outputs": [
        {
          "output_type": "execute_result",
          "data": {
            "text/plain": [
              "(333581, 28, 28, 1)"
            ]
          },
          "metadata": {
            "tags": []
          },
          "execution_count": 12
        }
      ]
    },
    {
      "cell_type": "code",
      "metadata": {
        "id": "0jxYrnf-CiQC",
        "colab_type": "code",
        "colab": {
          "base_uri": "https://localhost:8080/",
          "height": 34
        },
        "outputId": "cd798a50-c556-4715-814c-e15f2f4c7098"
      },
      "source": [
        "X_val.shape"
      ],
      "execution_count": 13,
      "outputs": [
        {
          "output_type": "execute_result",
          "data": {
            "text/plain": [
              "(58868, 28, 28, 1)"
            ]
          },
          "metadata": {
            "tags": []
          },
          "execution_count": 13
        }
      ]
    },
    {
      "cell_type": "code",
      "metadata": {
        "id": "l-PKUYyeCj1m",
        "colab_type": "code",
        "colab": {}
      },
      "source": [
        "import tensorflow as tf \n"
      ],
      "execution_count": 14,
      "outputs": []
    },
    {
      "cell_type": "code",
      "metadata": {
        "id": "QdVKgTVSESrM",
        "colab_type": "code",
        "colab": {}
      },
      "source": [
        "\n",
        "model = tf.keras.Sequential()\n",
        "#conv1\n",
        "model.add(tf.keras.layers.Conv2D(64,kernel_size=3,activation='relu',input_shape=(28,28,1)))\n",
        "model.add(tf.keras.layers.MaxPooling2D(pool_size=2))\n",
        "model.add(tf.keras.layers.Dropout(rate=0))\n",
        "#conv2\n",
        "model.add(tf.keras.layers.Conv2D(128,kernel_size=3,activation='relu'))\n",
        "model.add(tf.keras.layers.MaxPooling2D(pool_size=2))\n",
        "model.add(tf.keras.layers.Dropout(rate=0.15000000000000002))\n",
        "#conv3\n",
        "model.add(tf.keras.layers.Conv2D(128,kernel_size=3,activation='relu'))\n",
        "model.add(tf.keras.layers.MaxPooling2D(pool_size=2))\n",
        "model.add(tf.keras.layers.Dropout(rate=0.2))\n",
        "#flattening\n",
        "model.add(tf.keras.layers.Flatten())\n",
        "#dense_layer_1\n",
        "model.add(tf.keras.layers.Dense(288, activation='tanh'))\n",
        "#dense_layer_2\n",
        "model.add(tf.keras.layers.Dense(96, activation='sigmoid'))     \n",
        "\n",
        "\n",
        "model.add(tf.keras.layers.Dense(36, activation='softmax'))\n",
        "model.compile(optimizer=tf.keras.optimizers.Adam(0.00012248826057885715), loss='sparse_categorical_crossentropy', metrics=['accuracy'])"
      ],
      "execution_count": 20,
      "outputs": []
    },
    {
      "cell_type": "code",
      "metadata": {
        "id": "dUIGSRyLIEMf",
        "colab_type": "code",
        "colab": {
          "base_uri": "https://localhost:8080/",
          "height": 1000
        },
        "outputId": "c8fc43f3-99c6-4ee9-819d-aaa7ab976a06"
      },
      "source": [
        "BS=64\n",
        "H=model.fit(X_train, Y_train, epochs=50,steps_per_epoch=len(X_train) //(6* BS),\n",
        "              validation_data=(X_val, Y_val),\n",
        "            validation_steps=len(X_val) // (6*BS)\n",
        "              )"
      ],
      "execution_count": 21,
      "outputs": [
        {
          "output_type": "stream",
          "text": [
            "Epoch 1/50\n",
            "868/868 [==============================] - 32s 37ms/step - loss: 1.6828 - accuracy: 0.5777 - val_loss: 0.8244 - val_accuracy: 0.8121\n",
            "Epoch 2/50\n",
            "868/868 [==============================] - 31s 36ms/step - loss: 0.6776 - accuracy: 0.8446 - val_loss: 0.4283 - val_accuracy: 0.8990\n",
            "Epoch 3/50\n",
            "868/868 [==============================] - 31s 36ms/step - loss: 0.4242 - accuracy: 0.8980 - val_loss: 0.2875 - val_accuracy: 0.9287\n",
            "Epoch 4/50\n",
            "868/868 [==============================] - 32s 36ms/step - loss: 0.3171 - accuracy: 0.9201 - val_loss: 0.2224 - val_accuracy: 0.9439\n",
            "Epoch 5/50\n",
            "868/868 [==============================] - 32s 37ms/step - loss: 0.2605 - accuracy: 0.9327 - val_loss: 0.1882 - val_accuracy: 0.9515\n",
            "Epoch 6/50\n",
            "868/868 [==============================] - 32s 36ms/step - loss: 0.2241 - accuracy: 0.9411 - val_loss: 0.1626 - val_accuracy: 0.9570\n",
            "Epoch 7/50\n",
            "868/868 [==============================] - 32s 36ms/step - loss: 0.2023 - accuracy: 0.9456 - val_loss: 0.1476 - val_accuracy: 0.9605\n",
            "Epoch 8/50\n",
            "868/868 [==============================] - 32s 37ms/step - loss: 0.1833 - accuracy: 0.9501 - val_loss: 0.1393 - val_accuracy: 0.9618\n",
            "Epoch 9/50\n",
            "868/868 [==============================] - 32s 36ms/step - loss: 0.1698 - accuracy: 0.9535 - val_loss: 0.1279 - val_accuracy: 0.9649\n",
            "Epoch 10/50\n",
            "868/868 [==============================] - 32s 36ms/step - loss: 0.1594 - accuracy: 0.9556 - val_loss: 0.1238 - val_accuracy: 0.9657\n",
            "Epoch 11/50\n",
            "868/868 [==============================] - 32s 36ms/step - loss: 0.1508 - accuracy: 0.9581 - val_loss: 0.1141 - val_accuracy: 0.9685\n",
            "Epoch 12/50\n",
            "868/868 [==============================] - 32s 36ms/step - loss: 0.1425 - accuracy: 0.9604 - val_loss: 0.1109 - val_accuracy: 0.9692\n",
            "Epoch 13/50\n",
            "868/868 [==============================] - 32s 36ms/step - loss: 0.1369 - accuracy: 0.9616 - val_loss: 0.1040 - val_accuracy: 0.9708\n",
            "Epoch 14/50\n",
            "868/868 [==============================] - 32s 37ms/step - loss: 0.1311 - accuracy: 0.9635 - val_loss: 0.1013 - val_accuracy: 0.9718\n",
            "Epoch 15/50\n",
            "868/868 [==============================] - 32s 37ms/step - loss: 0.1262 - accuracy: 0.9644 - val_loss: 0.0978 - val_accuracy: 0.9728\n",
            "Epoch 16/50\n",
            "868/868 [==============================] - 32s 36ms/step - loss: 0.1210 - accuracy: 0.9661 - val_loss: 0.0955 - val_accuracy: 0.9734\n",
            "Epoch 17/50\n",
            "868/868 [==============================] - 32s 37ms/step - loss: 0.1178 - accuracy: 0.9668 - val_loss: 0.0927 - val_accuracy: 0.9738\n",
            "Epoch 18/50\n",
            "868/868 [==============================] - 32s 37ms/step - loss: 0.1135 - accuracy: 0.9680 - val_loss: 0.0893 - val_accuracy: 0.9749\n",
            "Epoch 19/50\n",
            "868/868 [==============================] - 32s 37ms/step - loss: 0.1097 - accuracy: 0.9691 - val_loss: 0.0879 - val_accuracy: 0.9754\n",
            "Epoch 20/50\n",
            "868/868 [==============================] - 32s 37ms/step - loss: 0.1068 - accuracy: 0.9696 - val_loss: 0.0852 - val_accuracy: 0.9760\n",
            "Epoch 21/50\n",
            "868/868 [==============================] - 32s 37ms/step - loss: 0.1040 - accuracy: 0.9705 - val_loss: 0.0831 - val_accuracy: 0.9764\n",
            "Epoch 22/50\n",
            "868/868 [==============================] - 32s 37ms/step - loss: 0.1018 - accuracy: 0.9711 - val_loss: 0.0809 - val_accuracy: 0.9773\n",
            "Epoch 23/50\n",
            "868/868 [==============================] - 32s 37ms/step - loss: 0.0981 - accuracy: 0.9720 - val_loss: 0.0788 - val_accuracy: 0.9776\n",
            "Epoch 24/50\n",
            "868/868 [==============================] - 32s 37ms/step - loss: 0.0963 - accuracy: 0.9726 - val_loss: 0.0796 - val_accuracy: 0.9774\n",
            "Epoch 25/50\n",
            "868/868 [==============================] - 32s 37ms/step - loss: 0.0942 - accuracy: 0.9734 - val_loss: 0.0773 - val_accuracy: 0.9787\n",
            "Epoch 26/50\n",
            "868/868 [==============================] - 32s 37ms/step - loss: 0.0919 - accuracy: 0.9739 - val_loss: 0.0747 - val_accuracy: 0.9788\n",
            "Epoch 27/50\n",
            "868/868 [==============================] - 32s 37ms/step - loss: 0.0898 - accuracy: 0.9745 - val_loss: 0.0759 - val_accuracy: 0.9789\n",
            "Epoch 28/50\n",
            "868/868 [==============================] - 32s 36ms/step - loss: 0.0887 - accuracy: 0.9747 - val_loss: 0.0752 - val_accuracy: 0.9785\n",
            "Epoch 29/50\n",
            "868/868 [==============================] - 32s 37ms/step - loss: 0.0850 - accuracy: 0.9757 - val_loss: 0.0737 - val_accuracy: 0.9795\n",
            "Epoch 30/50\n",
            "868/868 [==============================] - 32s 36ms/step - loss: 0.0851 - accuracy: 0.9753 - val_loss: 0.0699 - val_accuracy: 0.9798\n",
            "Epoch 31/50\n",
            "868/868 [==============================] - 31s 36ms/step - loss: 0.0822 - accuracy: 0.9763 - val_loss: 0.0685 - val_accuracy: 0.9808\n",
            "Epoch 32/50\n",
            "868/868 [==============================] - 32s 37ms/step - loss: 0.0810 - accuracy: 0.9768 - val_loss: 0.0692 - val_accuracy: 0.9805\n",
            "Epoch 33/50\n",
            "868/868 [==============================] - 32s 36ms/step - loss: 0.0794 - accuracy: 0.9770 - val_loss: 0.0664 - val_accuracy: 0.9816\n",
            "Epoch 34/50\n",
            "868/868 [==============================] - 32s 37ms/step - loss: 0.0775 - accuracy: 0.9778 - val_loss: 0.0650 - val_accuracy: 0.9815\n",
            "Epoch 35/50\n",
            "868/868 [==============================] - 32s 37ms/step - loss: 0.0760 - accuracy: 0.9781 - val_loss: 0.0661 - val_accuracy: 0.9813\n",
            "Epoch 36/50\n",
            "868/868 [==============================] - 32s 36ms/step - loss: 0.0743 - accuracy: 0.9787 - val_loss: 0.0629 - val_accuracy: 0.9824\n",
            "Epoch 37/50\n",
            "868/868 [==============================] - 32s 37ms/step - loss: 0.0731 - accuracy: 0.9790 - val_loss: 0.0631 - val_accuracy: 0.9822\n",
            "Epoch 38/50\n",
            "868/868 [==============================] - 32s 36ms/step - loss: 0.0728 - accuracy: 0.9788 - val_loss: 0.0622 - val_accuracy: 0.9826\n",
            "Epoch 39/50\n",
            "868/868 [==============================] - 32s 37ms/step - loss: 0.0715 - accuracy: 0.9793 - val_loss: 0.0620 - val_accuracy: 0.9821\n",
            "Epoch 40/50\n",
            "868/868 [==============================] - 32s 37ms/step - loss: 0.0699 - accuracy: 0.9797 - val_loss: 0.0607 - val_accuracy: 0.9826\n",
            "Epoch 41/50\n",
            "868/868 [==============================] - 32s 36ms/step - loss: 0.0683 - accuracy: 0.9801 - val_loss: 0.0616 - val_accuracy: 0.9827\n",
            "Epoch 42/50\n",
            "868/868 [==============================] - 32s 37ms/step - loss: 0.0672 - accuracy: 0.9805 - val_loss: 0.0594 - val_accuracy: 0.9836\n",
            "Epoch 43/50\n",
            "868/868 [==============================] - 32s 37ms/step - loss: 0.0669 - accuracy: 0.9806 - val_loss: 0.0579 - val_accuracy: 0.9838\n",
            "Epoch 44/50\n",
            "868/868 [==============================] - 32s 37ms/step - loss: 0.0650 - accuracy: 0.9810 - val_loss: 0.0591 - val_accuracy: 0.9835\n",
            "Epoch 45/50\n",
            "868/868 [==============================] - 32s 37ms/step - loss: 0.0643 - accuracy: 0.9814 - val_loss: 0.0582 - val_accuracy: 0.9838\n",
            "Epoch 46/50\n",
            "868/868 [==============================] - 32s 37ms/step - loss: 0.0638 - accuracy: 0.9815 - val_loss: 0.0570 - val_accuracy: 0.9839\n",
            "Epoch 47/50\n",
            "868/868 [==============================] - 32s 37ms/step - loss: 0.0626 - accuracy: 0.9817 - val_loss: 0.0570 - val_accuracy: 0.9842\n",
            "Epoch 48/50\n",
            "868/868 [==============================] - 31s 36ms/step - loss: 0.0611 - accuracy: 0.9821 - val_loss: 0.0568 - val_accuracy: 0.9843\n",
            "Epoch 49/50\n",
            "868/868 [==============================] - 31s 36ms/step - loss: 0.0609 - accuracy: 0.9825 - val_loss: 0.0554 - val_accuracy: 0.9843\n",
            "Epoch 50/50\n",
            "817/868 [===========================>..] - ETA: 1s - loss: 0.0594 - accuracy: 0.9826WARNING:tensorflow:Your input ran out of data; interrupting training. Make sure that your dataset or generator can generate at least `steps_per_epoch * epochs` batches (in this case, 43400 batches). You may need to use the repeat() function when building your dataset.\n",
            "818/868 [===========================>..] - 30s 37ms/step - loss: 0.0594 - accuracy: 0.9826 - val_loss: 0.0550 - val_accuracy: 0.9841\n"
          ],
          "name": "stdout"
        }
      ]
    },
    {
      "cell_type": "code",
      "metadata": {
        "id": "1AMv49gvI3nu",
        "colab_type": "code",
        "colab": {
          "base_uri": "https://localhost:8080/",
          "height": 638
        },
        "outputId": "41b9a5d7-d325-4d08-80c5-216a5982bef6"
      },
      "source": [
        "\n",
        "import matplotlib.pyplot as plt\n",
        "%matplotlib inline\n",
        "N = 50\n",
        "\n",
        "plt.figure(figsize=(15,10))\n",
        "plt.plot(np.arange(0, N), H.history[\"loss\"], label=\"train_loss\")\n",
        "plt.plot(np.arange(0, N), H.history[\"val_loss\"], label=\"val_loss\")\n",
        "plt.plot(np.arange(0, N), H.history[\"accuracy\"], label=\"train_acc\")\n",
        "plt.plot(np.arange(0, N), H.history[\"val_accuracy\"], label=\"val_acc\")\n",
        "plt.title(\"Training Loss and Accuracy\")\n",
        "plt.xlabel(\"Epoch--->\")\n",
        "plt.ylabel(\"Loss/Accuracy\")\n",
        "plt.legend(loc=\"center right\")"
      ],
      "execution_count": 22,
      "outputs": [
        {
          "output_type": "execute_result",
          "data": {
            "text/plain": [
              "<matplotlib.legend.Legend at 0x7f4583e43e48>"
            ]
          },
          "metadata": {
            "tags": []
          },
          "execution_count": 22
        },
        {
          "output_type": "display_data",
          "data": {
            "image/png": "[encoded data removed]",
            "text/plain": [
              "<Figure size 1080x720 with 1 Axes>"
            ]
          },
          "metadata": {
            "tags": [],
            "needs_background": "light"
          }
        }
      ]
    },
    {
      "cell_type": "code",
      "metadata": {
        "id": "1SVFsX4sBaYZ",
        "colab_type": "code",
        "colab": {
          "base_uri": "https://localhost:8080/",
          "height": 156
        },
        "outputId": "4c00f03e-213a-439a-a7fb-aaff967f7ed5"
      },
      "source": [
        "model.save('/content/drive/My Drive/OCR/Data/Model')"
      ],
      "execution_count": 23,
      "outputs": [
        {
          "output_type": "stream",
          "text": [
            "WARNING:tensorflow:From /usr/local/lib/python3.6/dist-packages/tensorflow/python/training/tracking/tracking.py:111: Model.state_updates (from tensorflow.python.keras.engine.training) is deprecated and will be removed in a future version.\n",
            "Instructions for updating:\n",
            "This property should not be used in TensorFlow 2.0, as updates are applied automatically.\n",
            "WARNING:tensorflow:From /usr/local/lib/python3.6/dist-packages/tensorflow/python/training/tracking/tracking.py:111: Layer.updates (from tensorflow.python.keras.engine.base_layer) is deprecated and will be removed in a future version.\n",
            "Instructions for updating:\n",
            "This property should not be used in TensorFlow 2.0, as updates are applied automatically.\n",
            "INFO:tensorflow:Assets written to: /content/drive/My Drive/OCR/Data/Model/assets\n"
          ],
          "name": "stdout"
        }
      ]
    },
    {
      "cell_type": "code",
      "metadata": {
        "id": "ZgWDTKwtBsPU",
        "colab_type": "code",
        "colab": {}
      },
      "source": [
        "model.save('/content/drive/My Drive/OCR/Data/Model.h5')"
      ],
      "execution_count": 24,
      "outputs": []
    },
    {
      "cell_type": "code",
      "metadata": {
        "id": "H879SBPOBwTO",
        "colab_type": "code",
        "colab": {}
      },
      "source": [
        ""
      ],
      "execution_count": null,
      "outputs": []
    }
  ]
}